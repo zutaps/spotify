{
 "cells": [
  {
   "cell_type": "code",
   "execution_count": 32,
   "id": "33d75467-9874-4f39-8390-d4929e186fd4",
   "metadata": {},
   "outputs": [],
   "source": [
    "## Importing packages\n",
    "\n",
    "import pandas as pd\n",
    "import json\n",
    "\n",
    "# Importing YourLibary data Path\n",
    "\n",
    "file_path = '../Data/Spotify Account Data/YourLibrary.json'\n",
    "\n",
    "#opening Json file with correct encoding\n",
    "\n",
    "with open(file_path, encoding = 'utf-8') as f:\n",
    "    data = json.load(f)\n",
    "\n",
    "#normalizing JSON file and specificying I only want data from Tracks object\n",
    "LikedSongs = pd.json_normalize(data, record_path='tracks')\n",
    "\n",
    "#turning LikedSongs into CSV\n",
    "LikedSongs.to_csv('../Data/Clean_Data/Liked_Songs_24.csv', header=True, index=False)"
   ]
  }
 ],
 "metadata": {
  "kernelspec": {
   "display_name": "Python 3 (ipykernel)",
   "language": "python",
   "name": "python3"
  },
  "language_info": {
   "codemirror_mode": {
    "name": "ipython",
    "version": 3
   },
   "file_extension": ".py",
   "mimetype": "text/x-python",
   "name": "python",
   "nbconvert_exporter": "python",
   "pygments_lexer": "ipython3",
   "version": "3.13.1"
  }
 },
 "nbformat": 4,
 "nbformat_minor": 5
}
