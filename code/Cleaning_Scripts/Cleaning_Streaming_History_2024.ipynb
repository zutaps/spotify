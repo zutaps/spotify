{
 "cells": [
  {
   "cell_type": "code",
   "execution_count": 55,
   "id": "44725fa7-711e-469c-b019-aa0be7004819",
   "metadata": {},
   "outputs": [],
   "source": [
    "## Importing packages\n",
    "\n",
    "from pandasql import sqldf as sql\n",
    "import pandas as pd\n",
    "\n",
    "# Importing Streaming History Audio data Path\n",
    "\n",
    "file_path = '../Data/Spotify Extended Streaming History/Streaming_History_Audio_2023-2025_6.json'\n",
    "\n",
    "raw_data = pd.read_json(file_path, orient='columns')\n",
    "\n",
    "## Creating music dataframe and dropping irrelevant columns\n",
    "music_data_raw = raw_data.copy().drop(['episode_name', 'episode_show_name', 'spotify_episode_uri'], axis=1)\n",
    "\n",
    "## Dropping rows with no music data\n",
    "music_data_raw = music_data_raw.loc[music_data_raw['master_metadata_track_name'].notna()]\n",
    "\n",
    "## Creating podcast dataframe and dropping irrelevant columns\n",
    "podcast_data_raw = raw_data.copy().drop(\n",
    "    ['master_metadata_track_name', 'master_metadata_album_artist_name', \n",
    "     'master_metadata_album_album_name', 'spotify_track_uri'], axis=1)\n",
    "\n",
    "#Dropping rows with no episode data\n",
    "podcast_data_raw = podcast_data_raw.loc[podcast_data_raw['episode_name'].notna()]"
   ]
  },
  {
   "cell_type": "code",
   "execution_count": 56,
   "id": "c60e40b8-4488-4bbb-b641-fdd0c233de80",
   "metadata": {},
   "outputs": [],
   "source": [
    "#turns out Pandas has a function .to_datetime that turns data into datetime format natively, so i dont need to use datetime library\n",
    "\n",
    "#filters music_data_raw to only show data from 2024 and then reset the index\n",
    "music_data_raw[\"ts\"] = pd.to_datetime(music_data_raw[\"ts\"], format=\"%Y-%m-%dT%H:%M:%SZ\")\n",
    "\n",
    "music_data = music_data_raw[(music_data_raw[\"ts\"] >= \"2024-01-01\") & (music_data_raw[\"ts\"] <= \"2024-12-31\")]\n",
    "\n",
    "music_data.reset_index(inplace = True, drop = True)\n",
    "\n",
    "#filters podcast_data_raw to only show data from 2024 and then reset the index\n",
    "podcast_data_raw[\"ts\"] = pd.to_datetime(podcast_data_raw[\"ts\"], format=\"%Y-%m-%dT%H:%M:%SZ\")\n",
    "\n",
    "podcast_data = podcast_data_raw[(podcast_data_raw[\"ts\"] >= \"2024-01-01\") & (podcast_data_raw[\"ts\"] <= \"2024-12-31\")]\n",
    "\n",
    "podcast_data.reset_index(inplace = True, drop = True)\n",
    "\n",
    "## Renaming the columns of both dataframes\n",
    "music_data.columns = ['ts', 'platform', 'ms_played', 'country', 'ip_addr',\n",
    "       'track_name', 'artist_name', 'album_name', 'spotify_track_uri', 'reason_start',\n",
    "       'reason_end', 'shuffle', 'skipped', 'offline', 'offline_ts',\n",
    "       'incognito_mode']\n",
    "\n",
    "podcast_data.columns = ['ts', 'platform', 'ms_played', 'country', 'ip_addr',\n",
    "       'episode_name', 'episode_show', 'spotify_episode_uri',\n",
    "       'reason_start', 'reason_end', 'shuffle', 'skipped', 'offline',\n",
    "       'offline_ts', 'incognito_mode']"
   ]
  },
  {
   "cell_type": "code",
   "execution_count": 66,
   "id": "cfd5eb7d-ea20-4e06-86e8-7989240a935b",
   "metadata": {},
   "outputs": [],
   "source": [
    "## turn data into csv so I can import the CSV in future code \n",
    "\n",
    "music_data.to_csv(\"../Data/Clean_Data/Music_Streamed_24.csv\", index=False, header = True)\n",
    "podcast_data.to_csv(\"../Data/Clean_Data/Podcast_Streamed_24.csv\", index=False, header = True)"
   ]
  }
 ],
 "metadata": {
  "kernelspec": {
   "display_name": "Python 3 (ipykernel)",
   "language": "python",
   "name": "python3"
  },
  "language_info": {
   "codemirror_mode": {
    "name": "ipython",
    "version": 3
   },
   "file_extension": ".py",
   "mimetype": "text/x-python",
   "name": "python",
   "nbconvert_exporter": "python",
   "pygments_lexer": "ipython3",
   "version": "3.13.1"
  }
 },
 "nbformat": 4,
 "nbformat_minor": 5
}
