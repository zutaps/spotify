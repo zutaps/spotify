{
 "cells": [
  {
   "cell_type": "code",
   "execution_count": 46,
   "id": "44725fa7-711e-469c-b019-aa0be7004819",
   "metadata": {},
   "outputs": [],
   "source": [
    "## Importing packages\n",
    "\n",
    "from pandasql import sqldf as sql\n",
    "import pandas as pd\n",
    "\n",
    "# Importing Streaming History Audio data Path\n",
    "\n",
    "file_path = '../Data/Spotify Extended Streaming History/Streaming_History_Audio_2023-2025_6.json'\n",
    "\n",
    "raw_data = pd.read_json(file_path, orient='columns')\n",
    "\n",
    "## Creating music dataframe\n",
    "\n",
    "music_data = raw_data.copy().drop(['episode_name', 'episode_show_name', 'spotify_episode_uri'], axis=1)\n",
    "\n",
    "#create for loop to filter out time frame that isnt 1/1/24 - 12/31/24\n",
    "# I want to filter the full dataframe to only get rows where the time frame is between 1/1/24 and 12/31/24\n",
    "    #look into pandas df conditional slicing. this means i dont have to use a for loop (learned new thing today 1.25.25)\n",
    "\n",
    "## Creating podcast dataframe\n",
    "podcast_data = raw_data.copy().drop(\n",
    "    ['master_metadata_track_name', 'master_metadata_album_artist_name', \n",
    "     'master_metadata_album_album_name', 'spotify_track_uri'], axis=1)\n"
   ]
  },
  {
   "cell_type": "code",
   "execution_count": 45,
   "id": "c60e40b8-4488-4bbb-b641-fdd0c233de80",
   "metadata": {},
   "outputs": [
    {
     "name": "stdout",
     "output_type": "stream",
     "text": [
      "False\n"
     ]
    }
   ],
   "source": [
    "## test for only keeping data from 1/1/24 to 12/31/24 \n",
    "\n",
    "## turn ts into date and time\n",
    "\n",
    "from datetime import datetime\n",
    "\n",
    "test_time = \"2023-09-12T12:56:36Z\"\n",
    "test2 = \"2023-09-15T12:56:36Z\"\n",
    "\n",
    "when = datetime.strptime(f\"{test_time}\", \"%Y-%m-%dT%H:%M:%SZ\")\n",
    "when2 = datetime.strptime(f\"{test2}\", \"%Y-%m-%dT%H:%M:%SZ\")\n",
    "\n",
    "if (when > when2):\n",
    "    print(True)\n",
    "else: \n",
    "    print(False)\n",
    "\n",
    "## test was successful thanks to ava. next i am to learn about conditional slicing cause that will be more effective way of filtering data"
   ]
  }
 ],
 "metadata": {
  "kernelspec": {
   "display_name": "Python 3 (ipykernel)",
   "language": "python",
   "name": "python3"
  },
  "language_info": {
   "codemirror_mode": {
    "name": "ipython",
    "version": 3
   },
   "file_extension": ".py",
   "mimetype": "text/x-python",
   "name": "python",
   "nbconvert_exporter": "python",
   "pygments_lexer": "ipython3",
   "version": "3.13.1"
  }
 },
 "nbformat": 4,
 "nbformat_minor": 5
}
