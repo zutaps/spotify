{
 "cells": [
  {
   "cell_type": "code",
   "execution_count": 6,
   "id": "0b82c8e3-f2ee-49c9-a057-3b1c3b3565f1",
   "metadata": {},
   "outputs": [],
   "source": [
    "#import packages\n",
    "import pandas as pd\n",
    "from pandasql import sqldf as sql\n",
    "\n",
    "#import CSVs as DFs \n",
    "Liked_Songs = pd.read_csv('../Data/Clean_Data/Liked_Songs_24.csv')\n",
    "Stream_Music = pd.read_csv('../Data/Clean_Data/Music_Streamed_24.csv')\n",
    "Stream_Podcast = pd.read_csv('../Data/Clean_Data/Podcast_Streamed_24.csv')"
   ]
  }
 ],
 "metadata": {
  "kernelspec": {
   "display_name": "Python 3 (ipykernel)",
   "language": "python",
   "name": "python3"
  },
  "language_info": {
   "codemirror_mode": {
    "name": "ipython",
    "version": 3
   },
   "file_extension": ".py",
   "mimetype": "text/x-python",
   "name": "python",
   "nbconvert_exporter": "python",
   "pygments_lexer": "ipython3",
   "version": "3.13.1"
  }
 },
 "nbformat": 4,
 "nbformat_minor": 5
}
